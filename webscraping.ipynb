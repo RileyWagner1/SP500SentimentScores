{
 "cells": [
  {
   "cell_type": "code",
   "execution_count": 7,
   "metadata": {},
   "outputs": [],
   "source": [
    "import pandas as pd\n",
    "from matplotlib import pyplot as plt\n",
    "import numpy as np\n",
    "import seaborn as sns\n",
    "import requests\n",
    "from bs4 import BeautifulSoup"
   ]
  },
  {
   "cell_type": "code",
   "execution_count": 22,
   "metadata": {},
   "outputs": [
    {
     "name": "stderr",
     "output_type": "stream",
     "text": [
      "[nltk_data] Error loading vader_lexicon: <urlopen error [SSL:\n",
      "[nltk_data]     CERTIFICATE_VERIFY_FAILED] certificate verify failed:\n",
      "[nltk_data]     unable to get local issuer certificate (_ssl.c:997)>\n"
     ]
    },
    {
     "data": {
      "text/plain": [
       "False"
      ]
     },
     "execution_count": 22,
     "metadata": {},
     "output_type": "execute_result"
    }
   ],
   "source": [
    "import nltk\n",
    "from nltk.sentiment import SentimentIntensityAnalyzer\n",
    "\n",
    "nltk.download('vader_lexicon')\n"
   ]
  },
  {
   "cell_type": "code",
   "execution_count": 11,
   "metadata": {},
   "outputs": [],
   "source": [
    "url = \"https://news.google.com/search?q=%24TSLA&hl=en-US&gl=US&ceid=US%3Aen\"\n",
    "page = requests.get(url)\n",
    "soup = BeautifulSoup(page.content, \"html.parser\")\n",
    "posts = soup.find_all(\"div\", class_= \"xrnccd\")"
   ]
  },
  {
   "cell_type": "code",
   "execution_count": 13,
   "metadata": {},
   "outputs": [
    {
     "data": {
      "text/plain": [
       "100"
      ]
     },
     "execution_count": 13,
     "metadata": {},
     "output_type": "execute_result"
    }
   ],
   "source": [
    "len(posts)"
   ]
  },
  {
   "cell_type": "code",
   "execution_count": 18,
   "metadata": {},
   "outputs": [
    {
     "data": {
      "text/plain": [
       "'Tesla (TSLA) Rose on Investors’ Expectations'"
      ]
     },
     "execution_count": 18,
     "metadata": {},
     "output_type": "execute_result"
    }
   ],
   "source": [
    "posts[0].find(\"h3\").text"
   ]
  },
  {
   "cell_type": "code",
   "execution_count": 19,
   "metadata": {},
   "outputs": [
    {
     "data": {
      "text/plain": [
       "'TSLA Stock Price Predictions: Where Will Tesla Be in 5 Years?'"
      ]
     },
     "execution_count": 19,
     "metadata": {},
     "output_type": "execute_result"
    }
   ],
   "source": [
    "posts[1].find(\"h3\").text"
   ]
  },
  {
   "cell_type": "code",
   "execution_count": 20,
   "metadata": {},
   "outputs": [
    {
     "data": {
      "text/plain": [
       "['Tesla (TSLA) Rose on Investors’ Expectations',\n",
       " 'TSLA Stock Price Predictions: Where Will Tesla Be in 5 Years?',\n",
       " 'Unusual Put Option Trade in Tesla (TSLA) Worth $191983.01K',\n",
       " 'Canada Pension Plan slashes stake in Tesla (TSLA) and other EV ...',\n",
       " 'GM vs. TSLA: Which Stock Is the Better Value Option?']"
      ]
     },
     "execution_count": 20,
     "metadata": {},
     "output_type": "execute_result"
    }
   ],
   "source": [
    "article_headlines = []\n",
    "\n",
    "for i in range(0, len(posts)):\n",
    "    article_headlines.append(posts[i].find(\"h3\").text)\n",
    "\n",
    "article_headlines[:5]"
   ]
  },
  {
   "cell_type": "code",
   "execution_count": 24,
   "metadata": {},
   "outputs": [],
   "source": [
    "analyzer = SentimentIntensityAnalyzer()\n"
   ]
  },
  {
   "cell_type": "code",
   "execution_count": 25,
   "metadata": {},
   "outputs": [],
   "source": [
    "sentence = article_headlines[0]\n",
    "\n",
    "sentiment_scores = analyzer.polarity_scores(sentence)\n"
   ]
  },
  {
   "cell_type": "code",
   "execution_count": 26,
   "metadata": {},
   "outputs": [
    {
     "name": "stdout",
     "output_type": "stream",
     "text": [
      "Sentiment Score: 0.0\n"
     ]
    }
   ],
   "source": [
    "sentiment_score = sentiment_scores['compound']\n",
    "\n",
    "print(\"Sentiment Score:\", sentiment_score)"
   ]
  },
  {
   "cell_type": "code",
   "execution_count": 27,
   "metadata": {},
   "outputs": [],
   "source": [
    "average_score = 0\n",
    "\n",
    "for article in article_headlines:\n",
    "    sentiment_scores = analyzer.polarity_scores(article)\n",
    "    average_score += sentiment_scores['compound']\n",
    "\n",
    "average_score = average_score / len(article_headlines)\n"
   ]
  },
  {
   "cell_type": "code",
   "execution_count": 28,
   "metadata": {},
   "outputs": [
    {
     "name": "stdout",
     "output_type": "stream",
     "text": [
      "0.08902899999999998\n"
     ]
    }
   ],
   "source": [
    "print(average_score)"
   ]
  },
  {
   "cell_type": "code",
   "execution_count": 65,
   "metadata": {},
   "outputs": [],
   "source": [
    "\n",
    "def get_sentiment_score(company):\n",
    "    url = \"https://news.google.com/search?q=%24{}&hl=en-US&gl=US&ceid=US%3Aen\".format(company)\n",
    "    page = requests.get(url)\n",
    "    soup = BeautifulSoup(page.content, \"html.parser\")\n",
    "    posts = soup.find_all(\"div\", class_= \"xrnccd\")\n",
    "\n",
    "    article_headlines = []\n",
    "\n",
    "    for i in range(0, len(posts)):\n",
    "        article_headlines.append(posts[i].find(\"h3\").text)\n",
    "\n",
    "    analyzer = SentimentIntensityAnalyzer()\n",
    "\n",
    "    average_score = 0\n",
    "\n",
    "    for article in article_headlines:\n",
    "        sentiment_scores = analyzer.polarity_scores(article)\n",
    "        average_score += sentiment_scores['compound']\n",
    "\n",
    "    try:\n",
    "        average_score = average_score / len(article_headlines)\n",
    "    \n",
    "    except ZeroDivisionError:\n",
    "        average_score = 0\n",
    "\n",
    "    print(\"{} Sentiment Score is: {:.2f}\".format(company, average_score))\n",
    "\n"
   ]
  },
  {
   "cell_type": "code",
   "execution_count": 42,
   "metadata": {},
   "outputs": [
    {
     "name": "stdout",
     "output_type": "stream",
     "text": [
      "TSLA Sentiment Score is: 0.10\n"
     ]
    }
   ],
   "source": [
    "get_sentiment_score(\"TSLA\")"
   ]
  },
  {
   "cell_type": "code",
   "execution_count": 43,
   "metadata": {},
   "outputs": [
    {
     "name": "stdout",
     "output_type": "stream",
     "text": [
      "AAPL Sentiment Score is: 0.08\n"
     ]
    }
   ],
   "source": [
    "get_sentiment_score(\"AAPL\")"
   ]
  },
  {
   "cell_type": "code",
   "execution_count": 44,
   "metadata": {},
   "outputs": [
    {
     "name": "stdout",
     "output_type": "stream",
     "text": [
      "NFLX Sentiment Score is: 0.15\n"
     ]
    }
   ],
   "source": [
    "get_sentiment_score(\"NFLX\")"
   ]
  },
  {
   "cell_type": "code",
   "execution_count": 66,
   "metadata": {},
   "outputs": [
    {
     "name": "stdout",
     "output_type": "stream",
     "text": [
      "NLSN Sentiment Score is: 0.00\n"
     ]
    }
   ],
   "source": [
    "get_sentiment_score(\"NLSN\")"
   ]
  },
  {
   "cell_type": "code",
   "execution_count": 58,
   "metadata": {},
   "outputs": [],
   "source": [
    "#obtained list of stocks currently in the S&P 500: https://en.wikipedia.org/wiki/List_of_S%26P_500_companies\n",
    "\n",
    "sp500_tickers = [\n",
    "    \"MMM\", \"ABT\", \"ABBV\", \"ABMD\", \"ACN\", \"ATVI\", \"ADBE\", \"AMD\", \"AAP\", \"AES\",\n",
    "    \"AFL\", \"A\", \"APD\", \"AKAM\", \"ALK\", \"ALB\", \"ARE\", \"ALXN\", \"ALGN\", \"ALLE\",\n",
    "    \"LNT\", \"ALL\", \"GOOGL\", \"GOOG\", \"MO\", \"AMZN\", \"AMCR\", \"AEE\", \"AAL\", \"AEP\",\n",
    "    \"AXP\", \"AIG\", \"AMT\", \"AWK\", \"AMP\", \"ABC\", \"AME\", \"AMGN\", \"APH\", \"ADI\",\n",
    "    \"ANSS\", \"ANTM\", \"AON\", \"AOS\", \"APA\", \"AAPL\", \"AMAT\", \"APTV\", \"ADM\", \"ANET\",\n",
    "    \"AJG\", \"AIZ\", \"ATO\", \"T\", \"ADSK\", \"ADP\", \"AZO\", \"AVB\", \"AVY\", \"BKR\", \"BLL\",\n",
    "    \"BAC\", \"BK\", \"BAX\", \"BDX\", \"BRK.B\", \"BBY\", \"BIO\", \"BIIB\", \"BLK\", \"BA\", \"BKNG\",\n",
    "    \"BWA\", \"BXP\", \"BSX\", \"BMY\", \"AVGO\", \"BR\", \"BF.B\", \"CHRW\", \"COG\", \"CDNS\",\n",
    "    \"CPB\", \"COF\", \"CAH\", \"KMX\", \"CCL\", \"CARR\", \"CTLT\", \"CAT\", \"CBOE\", \"CBRE\",\n",
    "    \"CDW\", \"CE\", \"CNC\", \"CNP\", \"CERN\", \"CF\", \"SCHW\", \"CHTR\", \"CVX\", \"CMG\", \"CB\",\n",
    "    \"CHD\", \"CI\", \"CINF\", \"CTAS\", \"CSCO\", \"C\", \"CFG\", \"CTXS\", \"CLX\", \"CME\", \"CMS\",\n",
    "    \"KO\", \"CTSH\", \"CL\", \"CMCSA\", \"CMA\", \"CAG\", \"CXO\", \"COP\", \"ED\", \"STZ\", \"COO\",\n",
    "    \"CPRT\", \"GLW\", \"CTVA\", \"COST\", \"CCI\", \"CSX\", \"CMI\", \"CVS\", \"DHI\", \"DHR\",\n",
    "    \"DRI\", \"DVA\", \"DE\", \"DAL\", \"XRAY\", \"DVN\", \"DXCM\", \"FANG\", \"DLR\", \"DFS\",\n",
    "    \"DISCA\", \"DISCK\", \"DISH\", \"DG\", \"DLTR\", \"D\", \"DPZ\", \"DOV\", \"DOW\", \"DTE\",\n",
    "    \"DUK\", \"DRE\", \"DD\", \"DXC\", \"EMN\", \"ETN\", \"EBAY\", \"ECL\", \"EIX\", \"EW\", \"EA\",\n",
    "    \"EMR\", \"ENPH\", \"ETR\", \"EOG\", \"EFX\", \"EQIX\", \"EQR\", \"ESS\", \"EL\", \"ETSY\",\n",
    "    \"RE\", \"EVRG\", \"ES\", \"EXC\", \"EXPE\", \"EXPD\", \"EXR\", \"XOM\", \"FFIV\", \"FB\",\n",
    "    \"FAST\", \"FRT\", \"FDX\", \"FIS\", \"FITB\", \"FE\", \"FRC\", \"FISV\", \"FLT\", \"FLIR\",\n",
    "    \"FLS\", \"FMC\", \"F\", \"FTNT\", \"FTV\", \"FBHS\", \"FOXA\", \"FOX\", \"BEN\", \"FCX\",\n",
    "    \"GPS\", \"GRMN\", \"IT\", \"GNRC\", \"GD\", \"GE\", \"GIS\", \"GM\", \"GPC\", \"GILD\", \"GL\",\n",
    "    \"GPN\", \"GS\", \"GWW\", \"HAL\", \"HBI\", \"HIG\", \"HAS\", \"HCA\", \"PEAK\", \"HSIC\", \"HSY\",\n",
    "    \"HES\", \"HPE\", \"HLT\", \"HFC\", \"HOLX\", \"HD\", \"HON\", \"HRL\", \"HST\", \"HWM\", \"HPQ\",\n",
    "    \"HUM\", \"HBAN\", \"HII\", \"IEX\", \"IDXX\", \"INFO\", \"ITW\", \"ILMN\", \"INCY\", \"IR\",\n",
    "    \"INTC\", \"ICE\", \"IBM\", \"IP\", \"IPG\", \"IFF\", \"INTU\", \"ISRG\", \"IVZ\", \"IPGP\",\n",
    "    \"IQV\", \"IRM\", \"JKHY\", \"J\", \"JBHT\", \"SJM\", \"JNJ\", \"JCI\", \"JPM\", \"JNPR\", \"KSU\",\n",
    "    \"K\", \"KEY\", \"KEYS\", \"KMB\", \"KIM\", \"KMI\", \"KLAC\", \"KHC\", \"KR\", \"LB\", \"LHX\",\n",
    "    \"LH\", \"LRCX\", \"LW\", \"LVS\", \"LEG\", \"LDOS\", \"LEN\", \"LLY\", \"LNC\", \"LIN\", \"LYV\",\n",
    "    \"LKQ\", \"LMT\", \"L\", \"LOW\", \"LUMN\", \"LYB\", \"MTB\", \"MRO\", \"MPC\", \"MKTX\", \"MAR\",\n",
    "    \"MMC\", \"MLM\", \"MAS\", \"MA\", \"MKC\", \"MXIM\", \"MCD\", \"MCK\", \"MDT\", \"MRK\", \"MET\",\n",
    "    \"MTD\", \"MGM\", \"MCHP\", \"MU\", \"MSFT\", \"MAA\", \"MHK\", \"TAP\", \"MDLZ\", \"MPWR\",\n",
    "    \"MNST\", \"MCO\", \"MS\", \"MOS\", \"MSI\", \"MSCI\", \"NDAQ\", \"NTAP\", \"NFLX\", \"NWL\",\n",
    "    \"NEM\", \"NWSA\", \"NWS\", \"NEE\", \"NLSN\", \"NKE\", \"NI\", \"NSC\", \"NTRS\", \"NOC\",\n",
    "    \"NLOK\", \"NCLH\", \"NOV\", \"NRG\", \"NUE\", \"NVDA\", \"NVR\", \"ORLY\", \"OXY\", \"ODFL\",\n",
    "    \"OMC\", \"OKE\", \"ORCL\", \"OTIS\", \"PCAR\", \"PKG\", \"PH\", \"PAYX\", \"PAYC\", \"PYPL\",\n",
    "    \"PNR\", \"PBCT\", \"PEP\", \"PKI\", \"PRGO\", \"PFE\", \"PM\", \"PSX\", \"PNW\", \"PXD\", \"PNC\",\n",
    "    \"POOL\", \"PPG\", \"PPL\", \"PFG\", \"PG\", \"PGR\", \"PLD\", \"PRU\", \"PEG\", \"PSA\", \"PHM\",\n",
    "    \"PVH\", \"QRVO\", \"PWR\", \"QCOM\", \"DGX\", \"RL\", \"RJF\", \"RTX\", \"O\", \"REG\", \"REGN\",\n",
    "    \"RF\", \"RSG\", \"RMD\", \"RHI\", \"ROK\", \"ROL\", \"ROP\", \"ROST\", \"RCL\", \"SPGI\",\n",
    "    \"CRM\", \"SBAC\", \"SLB\", \"STX\", \"SEE\", \"SRE\", \"NOW\", \"SHW\", \"SPG\", \"SWKS\", \"SLG\",\n",
    "    \"SNA\", \"SO\", \"LUV\", \"SWK\", \"SBUX\", \"STT\", \"STE\", \"SYK\", \"SIVB\", \"SYF\", \"SNPS\",\n",
    "    \"SYY\", \"TMUS\", \"TROW\", \"TTWO\", \"TPR\", \"TGT\", \"TEL\", \"TDY\", \"TFX\", \"TER\",\n",
    "    \"TSLA\", \"TXN\", \"TXT\", \"TMO\", \"TIF\", \"TJX\", \"TSCO\", \"TT\", \"TDG\", \"TRV\", \"TRMB\",\n",
    "    \"TFC\", \"TWTR\", \"TYL\", \"TSN\", \"UDR\", \"ULTA\", \"USB\", \"UAA\", \"UA\", \"UNP\", \"UAL\",\n",
    "    \"UNH\", \"UPS\", \"URI\", \"UHS\", \"UNM\", \"VLO\", \"VAR\", \"VTR\", \"VRSN\", \"VRSK\", \"VZ\",\n",
    "    \"VRTX\", \"VFC\", \"VIAC\", \"VTRS\", \"V\", \"VNT\", \"VNO\", \"VMC\", \"WRB\", \"WAB\", \"WMT\",\n",
    "    \"WBA\", \"DIS\", \"WM\", \"WAT\", \"WEC\", \"WFC\", \"WELL\", \"WST\", \"WDC\", \"WU\", \"WRK\",\n",
    "    \"WY\", \"WHR\", \"WMB\", \"WLTW\", \"WYNN\", \"XEL\", \"XRX\", \"XLNX\", \"XYL\", \"YUM\",\n",
    "    \"ZBRA\", \"ZBH\", \"ZION\", \"ZTS\"\n",
    "]\n",
    "\n",
    "\n"
   ]
  },
  {
   "cell_type": "code",
   "execution_count": 72,
   "metadata": {},
   "outputs": [],
   "source": [
    "#changing function so it doesn't print the sentiment score, but instead returns it and also adding except statement to handle ZeroDivisionError\n",
    "\n",
    "\n",
    "def get_sentiment_score(company):\n",
    "    url = \"https://news.google.com/search?q=%24{}&hl=en-US&gl=US&ceid=US%3Aen\".format(company)\n",
    "    page = requests.get(url)\n",
    "    soup = BeautifulSoup(page.content, \"html.parser\")\n",
    "    posts = soup.find_all(\"div\", class_= \"xrnccd\")\n",
    "\n",
    "    article_headlines = []\n",
    "\n",
    "    for i in range(0, len(posts)):\n",
    "        article_headlines.append(posts[i].find(\"h3\").text)\n",
    "\n",
    "    analyzer = SentimentIntensityAnalyzer()\n",
    "\n",
    "    average_score = 0\n",
    "\n",
    "    for article in article_headlines:\n",
    "        sentiment_scores = analyzer.polarity_scores(article)\n",
    "        average_score += sentiment_scores['compound']\n",
    "\n",
    "    try:\n",
    "        average_score = average_score / len(article_headlines)\n",
    "    \n",
    "    except ZeroDivisionError:\n",
    "        average_score = 0\n",
    "\n",
    "    return average_score\n",
    "\n"
   ]
  },
  {
   "cell_type": "code",
   "execution_count": 74,
   "metadata": {},
   "outputs": [],
   "source": [
    "from tqdm import tqdm"
   ]
  },
  {
   "cell_type": "code",
   "execution_count": 75,
   "metadata": {},
   "outputs": [],
   "source": [
    "# stock_scores = []\n",
    "\n",
    "# for stock in range(0, len(sp500_tickers)):\n",
    "#     stock_scores.append(get_sentiment_score(sp500_tickers[stock]))\n"
   ]
  },
  {
   "cell_type": "code",
   "execution_count": 76,
   "metadata": {},
   "outputs": [
    {
     "name": "stderr",
     "output_type": "stream",
     "text": [
      "100%|██████████| 508/508 [12:16<00:00,  1.45s/it]\n"
     ]
    }
   ],
   "source": [
    "#putting tdqm wrapper around fucntion to get progress bar\n",
    "\n",
    "stock_scores = []\n",
    "\n",
    "# Create a tqdm progress bar with the total number of tickers\n",
    "with tqdm(total=len(sp500_tickers)) as pbar:\n",
    "    for stock in sp500_tickers:\n",
    "        stock_scores.append(get_sentiment_score(stock))\n",
    "        pbar.update(1) "
   ]
  },
  {
   "cell_type": "code",
   "execution_count": 77,
   "metadata": {},
   "outputs": [],
   "source": [
    "#create pandas dataframe with stock tickers and sentiment scores\n",
    "df = pd.DataFrame(list(zip(sp500_tickers, stock_scores)), columns =['Ticker', 'Sentiment Score'])"
   ]
  },
  {
   "cell_type": "code",
   "execution_count": 78,
   "metadata": {},
   "outputs": [
    {
     "data": {
      "text/html": [
       "<div>\n",
       "<style scoped>\n",
       "    .dataframe tbody tr th:only-of-type {\n",
       "        vertical-align: middle;\n",
       "    }\n",
       "\n",
       "    .dataframe tbody tr th {\n",
       "        vertical-align: top;\n",
       "    }\n",
       "\n",
       "    .dataframe thead th {\n",
       "        text-align: right;\n",
       "    }\n",
       "</style>\n",
       "<table border=\"1\" class=\"dataframe\">\n",
       "  <thead>\n",
       "    <tr style=\"text-align: right;\">\n",
       "      <th></th>\n",
       "      <th>Ticker</th>\n",
       "      <th>Sentiment Score</th>\n",
       "    </tr>\n",
       "  </thead>\n",
       "  <tbody>\n",
       "    <tr>\n",
       "      <th>0</th>\n",
       "      <td>MMM</td>\n",
       "      <td>0.081710</td>\n",
       "    </tr>\n",
       "    <tr>\n",
       "      <th>1</th>\n",
       "      <td>ABT</td>\n",
       "      <td>0.126945</td>\n",
       "    </tr>\n",
       "    <tr>\n",
       "      <th>2</th>\n",
       "      <td>ABBV</td>\n",
       "      <td>0.099671</td>\n",
       "    </tr>\n",
       "    <tr>\n",
       "      <th>3</th>\n",
       "      <td>ABMD</td>\n",
       "      <td>0.089133</td>\n",
       "    </tr>\n",
       "    <tr>\n",
       "      <th>4</th>\n",
       "      <td>ACN</td>\n",
       "      <td>0.121067</td>\n",
       "    </tr>\n",
       "  </tbody>\n",
       "</table>\n",
       "</div>"
      ],
      "text/plain": [
       "  Ticker  Sentiment Score\n",
       "0    MMM         0.081710\n",
       "1    ABT         0.126945\n",
       "2   ABBV         0.099671\n",
       "3   ABMD         0.089133\n",
       "4    ACN         0.121067"
      ]
     },
     "execution_count": 78,
     "metadata": {},
     "output_type": "execute_result"
    }
   ],
   "source": [
    "df.head()"
   ]
  },
  {
   "cell_type": "code",
   "execution_count": 82,
   "metadata": {},
   "outputs": [
    {
     "data": {
      "text/html": [
       "<div>\n",
       "<style scoped>\n",
       "    .dataframe tbody tr th:only-of-type {\n",
       "        vertical-align: middle;\n",
       "    }\n",
       "\n",
       "    .dataframe tbody tr th {\n",
       "        vertical-align: top;\n",
       "    }\n",
       "\n",
       "    .dataframe thead th {\n",
       "        text-align: right;\n",
       "    }\n",
       "</style>\n",
       "<table border=\"1\" class=\"dataframe\">\n",
       "  <thead>\n",
       "    <tr style=\"text-align: right;\">\n",
       "      <th></th>\n",
       "      <th>Ticker</th>\n",
       "      <th>Sentiment Score</th>\n",
       "    </tr>\n",
       "  </thead>\n",
       "  <tbody>\n",
       "    <tr>\n",
       "      <th>66</th>\n",
       "      <td>BBY</td>\n",
       "      <td>0.598765</td>\n",
       "    </tr>\n",
       "  </tbody>\n",
       "</table>\n",
       "</div>"
      ],
      "text/plain": [
       "   Ticker  Sentiment Score\n",
       "66    BBY         0.598765"
      ]
     },
     "execution_count": 82,
     "metadata": {},
     "output_type": "execute_result"
    }
   ],
   "source": [
    "#find max and min sentiment scores\n",
    "df.loc[df['Sentiment Score'] == df['Sentiment Score'].max()]\n"
   ]
  },
  {
   "cell_type": "code",
   "execution_count": 83,
   "metadata": {},
   "outputs": [
    {
     "data": {
      "text/html": [
       "<div>\n",
       "<style scoped>\n",
       "    .dataframe tbody tr th:only-of-type {\n",
       "        vertical-align: middle;\n",
       "    }\n",
       "\n",
       "    .dataframe tbody tr th {\n",
       "        vertical-align: top;\n",
       "    }\n",
       "\n",
       "    .dataframe thead th {\n",
       "        text-align: right;\n",
       "    }\n",
       "</style>\n",
       "<table border=\"1\" class=\"dataframe\">\n",
       "  <thead>\n",
       "    <tr style=\"text-align: right;\">\n",
       "      <th></th>\n",
       "      <th>Ticker</th>\n",
       "      <th>Sentiment Score</th>\n",
       "    </tr>\n",
       "  </thead>\n",
       "  <tbody>\n",
       "    <tr>\n",
       "      <th>304</th>\n",
       "      <td>MLM</td>\n",
       "      <td>-0.574395</td>\n",
       "    </tr>\n",
       "  </tbody>\n",
       "</table>\n",
       "</div>"
      ],
      "text/plain": [
       "    Ticker  Sentiment Score\n",
       "304    MLM        -0.574395"
      ]
     },
     "execution_count": 83,
     "metadata": {},
     "output_type": "execute_result"
    }
   ],
   "source": [
    "df.loc[df['Sentiment Score'] == df['Sentiment Score'].min()]\n"
   ]
  },
  {
   "cell_type": "code",
   "execution_count": 87,
   "metadata": {},
   "outputs": [
    {
     "data": {
      "text/html": [
       "<div>\n",
       "<style scoped>\n",
       "    .dataframe tbody tr th:only-of-type {\n",
       "        vertical-align: middle;\n",
       "    }\n",
       "\n",
       "    .dataframe tbody tr th {\n",
       "        vertical-align: top;\n",
       "    }\n",
       "\n",
       "    .dataframe thead th {\n",
       "        text-align: right;\n",
       "    }\n",
       "</style>\n",
       "<table border=\"1\" class=\"dataframe\">\n",
       "  <thead>\n",
       "    <tr style=\"text-align: right;\">\n",
       "      <th></th>\n",
       "      <th>Ticker</th>\n",
       "      <th>Sentiment Score</th>\n",
       "    </tr>\n",
       "  </thead>\n",
       "  <tbody>\n",
       "    <tr>\n",
       "      <th>0</th>\n",
       "      <td>MMM</td>\n",
       "      <td>0.081710</td>\n",
       "    </tr>\n",
       "    <tr>\n",
       "      <th>1</th>\n",
       "      <td>ABT</td>\n",
       "      <td>0.126945</td>\n",
       "    </tr>\n",
       "    <tr>\n",
       "      <th>2</th>\n",
       "      <td>ABBV</td>\n",
       "      <td>0.099671</td>\n",
       "    </tr>\n",
       "    <tr>\n",
       "      <th>3</th>\n",
       "      <td>ABMD</td>\n",
       "      <td>0.089133</td>\n",
       "    </tr>\n",
       "    <tr>\n",
       "      <th>4</th>\n",
       "      <td>ACN</td>\n",
       "      <td>0.121067</td>\n",
       "    </tr>\n",
       "  </tbody>\n",
       "</table>\n",
       "</div>"
      ],
      "text/plain": [
       "  Ticker  Sentiment Score\n",
       "0    MMM         0.081710\n",
       "1    ABT         0.126945\n",
       "2   ABBV         0.099671\n",
       "3   ABMD         0.089133\n",
       "4    ACN         0.121067"
      ]
     },
     "execution_count": 87,
     "metadata": {},
     "output_type": "execute_result"
    }
   ],
   "source": [
    "df.head()"
   ]
  },
  {
   "cell_type": "code",
   "execution_count": 91,
   "metadata": {},
   "outputs": [
    {
     "data": {
      "image/png": "[encoded data removed]",
      "text/plain": [
       "<Figure size 1000x500 with 1 Axes>"
      ]
     },
     "metadata": {},
     "output_type": "display_data"
    }
   ],
   "source": [
    "#create visual to show top 5 highest and lowest sentiment scores: \n",
    "\n",
    "df_sorted = df.sort_values(\"Sentiment Score\")\n",
    "\n",
    "top_5_highest = df_sorted.tail(5)\n",
    "top_5_lowest = df_sorted.head(5)\n",
    "\n",
    "plot_data = pd.concat([top_5_lowest, top_5_highest])\n",
    "\n",
    "plt.figure(figsize=(10, 5))\n",
    "plt.bar(plot_data[\"Ticker\"], plot_data[\"Sentiment Score\"])\n",
    "\n",
    "plt.xlabel(\"Ticker\")\n",
    "plt.ylabel(\"Sentiment Score\")\n",
    "plt.title(\"Top 5 Highest and Lowest Sentiment Scores\")\n",
    "\n",
    "plt.xticks(rotation=45)\n",
    "plt.show()\n"
   ]
  },
  {
   "cell_type": "code",
   "execution_count": null,
   "metadata": {},
   "outputs": [],
   "source": []
  }
 ],
 "metadata": {
  "kernelspec": {
   "display_name": "Python 3",
   "language": "python",
   "name": "python3"
  },
  "language_info": {
   "codemirror_mode": {
    "name": "ipython",
    "version": 3
   },
   "file_extension": ".py",
   "mimetype": "text/x-python",
   "name": "python",
   "nbconvert_exporter": "python",
   "pygments_lexer": "ipython3",
   "version": "3.10.2"
  },
  "orig_nbformat": 4
 },
 "nbformat": 4,
 "nbformat_minor": 2
}
